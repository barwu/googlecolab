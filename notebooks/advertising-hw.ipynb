{
  "cells": [
    {
      "cell_type": "markdown",
      "metadata": {
        "id": "view-in-github",
        "colab_type": "text"
      },
      "source": [
        "<a href=\"https://colab.research.google.com/github/barwu/googlecolab/blob/main/notebooks/advertising-hw.ipynb\" target=\"_parent\"><img src=\"https://colab.research.google.com/assets/colab-badge.svg\" alt=\"Open In Colab\"/></a>"
      ]
    },
    {
      "cell_type": "markdown",
      "metadata": {
        "id": "c77af1f3-3a9d-4988-998c-3f30599b8e13"
      },
      "source": [
        "# Assignment: Linear regression on the Advertising data\n",
        "\n",
        "*Fraida Fund*"
      ],
      "id": "c77af1f3-3a9d-4988-998c-3f30599b8e13"
    },
    {
      "cell_type": "markdown",
      "metadata": {
        "id": "f6aafa8b-6155-4949-8005-08bdc85822b5"
      },
      "source": [
        "Fill in your name and net ID:\n",
        "\n",
        "-   **Name**: Baron Wu\n",
        "-   **net ID**: bw1648"
      ],
      "id": "f6aafa8b-6155-4949-8005-08bdc85822b5"
    },
    {
      "cell_type": "markdown",
      "metadata": {
        "id": "0a76e157-8820-40f6-84cc-2f8112196607"
      },
      "source": [
        "Make a copy of this notebook in your own Google Drive and, as you work through it, fill in missing code and answers to the questions.\n",
        "\n",
        "After you are finished, you will copy your answers from individual sections *and* a copy of the entire notebook into PrairieLearn for submission. (Note that the PrairieLearn autograder will expect that you have used exactly the variable names shown in this template notebook.)\n",
        "\n",
        "Answers to open-ended questions (e.g. “Comment on the results..”) must be **in your own words**, reflecting your own interpretation and understanding, and must refer to specific results (including numeric values) you obtained in this notebook."
      ],
      "id": "0a76e157-8820-40f6-84cc-2f8112196607"
    },
    {
      "cell_type": "markdown",
      "metadata": {
        "id": "4038c2ef-17b7-415e-80b0-5780f683eff3"
      },
      "source": [
        "To illustrate principles of linear regression, we are going to use some data from the textbook “An Introduction to Statistical Learning with Applications in R/Python” (Gareth James, Daniela Witten, Trevor Hastie, Robert Tibshirani).\n",
        "\n",
        "The dataset is described as follows:\n",
        "\n",
        "> Suppose that we are statistical consultants hired by a client to provide advice on how to improve sales of a particular product. The `Advertising` data set consists of the sales of that product in 200 different markets, along with advertising budgets for the product in each of those markets for three different media: TV, radio, and newspaper.\n",
        ">\n",
        "> …\n",
        ">\n",
        "> It is not possible for our client to directly increase sales of the product. On the other hand, they can control the advertising expenditure in each of the three media. Therefore, if we determine that there is an association between advertising and sales, then we can instruct our client to adjust advertising budgets, thereby indirectly increasing sales. In other words, our goal is to develop an accurate model that can be used to predict sales on the basis of the three media budgets.\n",
        "\n",
        "Sales are reported in thousands of units, and TV, radio, and newspaper budgets, are reported in thousands of dollars.\n",
        "\n",
        "For this assignment, you will fit a linear regression model to a small dataset. You will iteratively improve your linear regression model by examining the residuals at each stage, in order to identify problems with the model."
      ],
      "id": "4038c2ef-17b7-415e-80b0-5780f683eff3"
    },
    {
      "cell_type": "code",
      "execution_count": 1,
      "metadata": {
        "id": "30596f0c-24a2-4519-8f02-ab458a407187"
      },
      "outputs": [],
      "source": [
        "from sklearn import metrics\n",
        "from sklearn.linear_model import LinearRegression\n",
        "from sklearn.model_selection import train_test_split\n",
        "\n",
        "import numpy as np\n",
        "import matplotlib.pyplot as plt\n",
        "import pandas as pd\n",
        "import seaborn as sns\n",
        "sns.set()"
      ],
      "id": "30596f0c-24a2-4519-8f02-ab458a407187"
    },
    {
      "cell_type": "markdown",
      "metadata": {
        "id": "96906454-53d6-4af3-9a11-3342e173127f"
      },
      "source": [
        "### 0. Read in and pre-process data\n",
        "\n",
        "In this section, you will read in the “Advertising” data, and make sure it is loaded correctly. Then, split the data into training data (70%) and test data (30%). We will use *only* the training data in our visualizations, etc.\n",
        "\n",
        "Visually inspect the data using a pairplot, and note any meaningful observations. In particular, comment on which features appear to be correlated with product sales, and which features appear to be correlated with one another.\n",
        "\n",
        "**The code in this section is provided for you**."
      ],
      "id": "96906454-53d6-4af3-9a11-3342e173127f"
    },
    {
      "cell_type": "markdown",
      "metadata": {
        "id": "3b363dcf-3e17-42e9-8b13-79259a9050a4"
      },
      "source": [
        "#### Read in data"
      ],
      "id": "3b363dcf-3e17-42e9-8b13-79259a9050a4"
    },
    {
      "cell_type": "code",
      "execution_count": 2,
      "metadata": {
        "colab": {
          "base_uri": "https://localhost:8080/"
        },
        "id": "a98b060f-efee-41e0-b99e-1636d1bfb042",
        "outputId": "35162d9b-012b-4dbe-bc97-e1584dc65e6f"
      },
      "outputs": [
        {
          "output_type": "stream",
          "name": "stdout",
          "text": [
            "--2025-02-12 21:28:31--  https://www.statlearning.com/s/Advertising.csv\n",
            "Resolving www.statlearning.com (www.statlearning.com)... 198.185.159.144, 198.49.23.145, 198.185.159.145, ...\n",
            "Connecting to www.statlearning.com (www.statlearning.com)|198.185.159.144|:443... connected.\n",
            "HTTP request sent, awaiting response... 302 Found\n",
            "Location: https://static1.squarespace.com/static/5ff2adbe3fe4fe33db902812/t/5fffe03b4091076ff5b30c72/1610604603901/Advertising.csv [following]\n",
            "--2025-02-12 21:28:32--  https://static1.squarespace.com/static/5ff2adbe3fe4fe33db902812/t/5fffe03b4091076ff5b30c72/1610604603901/Advertising.csv\n",
            "Resolving static1.squarespace.com (static1.squarespace.com)... 151.101.0.238, 151.101.64.238, 151.101.128.238, ...\n",
            "Connecting to static1.squarespace.com (static1.squarespace.com)|151.101.0.238|:443... connected.\n",
            "HTTP request sent, awaiting response... 200 OK\n",
            "Length: 4555 (4.4K) [text/csv]\n",
            "Saving to: ‘Advertising.csv’\n",
            "\n",
            "Advertising.csv     100%[===================>]   4.45K  --.-KB/s    in 0s      \n",
            "\n",
            "2025-02-12 21:28:32 (33.3 MB/s) - ‘Advertising.csv’ saved [4555/4555]\n",
            "\n"
          ]
        }
      ],
      "source": [
        "!wget 'https://www.statlearning.com/s/Advertising.csv' -O 'Advertising.csv'"
      ],
      "id": "a98b060f-efee-41e0-b99e-1636d1bfb042"
    },
    {
      "cell_type": "code",
      "execution_count": 3,
      "metadata": {
        "colab": {
          "base_uri": "https://localhost:8080/",
          "height": 206
        },
        "id": "c33da9b7-7c6b-4002-a2ad-4fd9e1707748",
        "outputId": "3d01f62a-ab14-4622-c931-31ff090e17c1"
      },
      "outputs": [
        {
          "output_type": "execute_result",
          "data": {
            "text/plain": [
              "      TV  radio  newspaper  sales\n",
              "1  230.1   37.8       69.2   22.1\n",
              "2   44.5   39.3       45.1   10.4\n",
              "3   17.2   45.9       69.3    9.3\n",
              "4  151.5   41.3       58.5   18.5\n",
              "5  180.8   10.8       58.4   12.9"
            ],
            "text/html": [
              "\n",
              "  <div id=\"df-63e83c36-9ac2-4d47-bc35-3480fd828a7b\" class=\"colab-df-container\">\n",
              "    <div>\n",
              "<style scoped>\n",
              "    .dataframe tbody tr th:only-of-type {\n",
              "        vertical-align: middle;\n",
              "    }\n",
              "\n",
              "    .dataframe tbody tr th {\n",
              "        vertical-align: top;\n",
              "    }\n",
              "\n",
              "    .dataframe thead th {\n",
              "        text-align: right;\n",
              "    }\n",
              "</style>\n",
              "<table border=\"1\" class=\"dataframe\">\n",
              "  <thead>\n",
              "    <tr style=\"text-align: right;\">\n",
              "      <th></th>\n",
              "      <th>TV</th>\n",
              "      <th>radio</th>\n",
              "      <th>newspaper</th>\n",
              "      <th>sales</th>\n",
              "    </tr>\n",
              "  </thead>\n",
              "  <tbody>\n",
              "    <tr>\n",
              "      <th>1</th>\n",
              "      <td>230.1</td>\n",
              "      <td>37.8</td>\n",
              "      <td>69.2</td>\n",
              "      <td>22.1</td>\n",
              "    </tr>\n",
              "    <tr>\n",
              "      <th>2</th>\n",
              "      <td>44.5</td>\n",
              "      <td>39.3</td>\n",
              "      <td>45.1</td>\n",
              "      <td>10.4</td>\n",
              "    </tr>\n",
              "    <tr>\n",
              "      <th>3</th>\n",
              "      <td>17.2</td>\n",
              "      <td>45.9</td>\n",
              "      <td>69.3</td>\n",
              "      <td>9.3</td>\n",
              "    </tr>\n",
              "    <tr>\n",
              "      <th>4</th>\n",
              "      <td>151.5</td>\n",
              "      <td>41.3</td>\n",
              "      <td>58.5</td>\n",
              "      <td>18.5</td>\n",
              "    </tr>\n",
              "    <tr>\n",
              "      <th>5</th>\n",
              "      <td>180.8</td>\n",
              "      <td>10.8</td>\n",
              "      <td>58.4</td>\n",
              "      <td>12.9</td>\n",
              "    </tr>\n",
              "  </tbody>\n",
              "</table>\n",
              "</div>\n",
              "    <div class=\"colab-df-buttons\">\n",
              "\n",
              "  <div class=\"colab-df-container\">\n",
              "    <button class=\"colab-df-convert\" onclick=\"convertToInteractive('df-63e83c36-9ac2-4d47-bc35-3480fd828a7b')\"\n",
              "            title=\"Convert this dataframe to an interactive table.\"\n",
              "            style=\"display:none;\">\n",
              "\n",
              "  <svg xmlns=\"http://www.w3.org/2000/svg\" height=\"24px\" viewBox=\"0 -960 960 960\">\n",
              "    <path d=\"M120-120v-720h720v720H120Zm60-500h600v-160H180v160Zm220 220h160v-160H400v160Zm0 220h160v-160H400v160ZM180-400h160v-160H180v160Zm440 0h160v-160H620v160ZM180-180h160v-160H180v160Zm440 0h160v-160H620v160Z\"/>\n",
              "  </svg>\n",
              "    </button>\n",
              "\n",
              "  <style>\n",
              "    .colab-df-container {\n",
              "      display:flex;\n",
              "      gap: 12px;\n",
              "    }\n",
              "\n",
              "    .colab-df-convert {\n",
              "      background-color: #E8F0FE;\n",
              "      border: none;\n",
              "      border-radius: 50%;\n",
              "      cursor: pointer;\n",
              "      display: none;\n",
              "      fill: #1967D2;\n",
              "      height: 32px;\n",
              "      padding: 0 0 0 0;\n",
              "      width: 32px;\n",
              "    }\n",
              "\n",
              "    .colab-df-convert:hover {\n",
              "      background-color: #E2EBFA;\n",
              "      box-shadow: 0px 1px 2px rgba(60, 64, 67, 0.3), 0px 1px 3px 1px rgba(60, 64, 67, 0.15);\n",
              "      fill: #174EA6;\n",
              "    }\n",
              "\n",
              "    .colab-df-buttons div {\n",
              "      margin-bottom: 4px;\n",
              "    }\n",
              "\n",
              "    [theme=dark] .colab-df-convert {\n",
              "      background-color: #3B4455;\n",
              "      fill: #D2E3FC;\n",
              "    }\n",
              "\n",
              "    [theme=dark] .colab-df-convert:hover {\n",
              "      background-color: #434B5C;\n",
              "      box-shadow: 0px 1px 3px 1px rgba(0, 0, 0, 0.15);\n",
              "      filter: drop-shadow(0px 1px 2px rgba(0, 0, 0, 0.3));\n",
              "      fill: #FFFFFF;\n",
              "    }\n",
              "  </style>\n",
              "\n",
              "    <script>\n",
              "      const buttonEl =\n",
              "        document.querySelector('#df-63e83c36-9ac2-4d47-bc35-3480fd828a7b button.colab-df-convert');\n",
              "      buttonEl.style.display =\n",
              "        google.colab.kernel.accessAllowed ? 'block' : 'none';\n",
              "\n",
              "      async function convertToInteractive(key) {\n",
              "        const element = document.querySelector('#df-63e83c36-9ac2-4d47-bc35-3480fd828a7b');\n",
              "        const dataTable =\n",
              "          await google.colab.kernel.invokeFunction('convertToInteractive',\n",
              "                                                    [key], {});\n",
              "        if (!dataTable) return;\n",
              "\n",
              "        const docLinkHtml = 'Like what you see? Visit the ' +\n",
              "          '<a target=\"_blank\" href=https://colab.research.google.com/notebooks/data_table.ipynb>data table notebook</a>'\n",
              "          + ' to learn more about interactive tables.';\n",
              "        element.innerHTML = '';\n",
              "        dataTable['output_type'] = 'display_data';\n",
              "        await google.colab.output.renderOutput(dataTable, element);\n",
              "        const docLink = document.createElement('div');\n",
              "        docLink.innerHTML = docLinkHtml;\n",
              "        element.appendChild(docLink);\n",
              "      }\n",
              "    </script>\n",
              "  </div>\n",
              "\n",
              "\n",
              "<div id=\"df-f3a2afa8-403e-45fd-987b-267ca1825859\">\n",
              "  <button class=\"colab-df-quickchart\" onclick=\"quickchart('df-f3a2afa8-403e-45fd-987b-267ca1825859')\"\n",
              "            title=\"Suggest charts\"\n",
              "            style=\"display:none;\">\n",
              "\n",
              "<svg xmlns=\"http://www.w3.org/2000/svg\" height=\"24px\"viewBox=\"0 0 24 24\"\n",
              "     width=\"24px\">\n",
              "    <g>\n",
              "        <path d=\"M19 3H5c-1.1 0-2 .9-2 2v14c0 1.1.9 2 2 2h14c1.1 0 2-.9 2-2V5c0-1.1-.9-2-2-2zM9 17H7v-7h2v7zm4 0h-2V7h2v10zm4 0h-2v-4h2v4z\"/>\n",
              "    </g>\n",
              "</svg>\n",
              "  </button>\n",
              "\n",
              "<style>\n",
              "  .colab-df-quickchart {\n",
              "      --bg-color: #E8F0FE;\n",
              "      --fill-color: #1967D2;\n",
              "      --hover-bg-color: #E2EBFA;\n",
              "      --hover-fill-color: #174EA6;\n",
              "      --disabled-fill-color: #AAA;\n",
              "      --disabled-bg-color: #DDD;\n",
              "  }\n",
              "\n",
              "  [theme=dark] .colab-df-quickchart {\n",
              "      --bg-color: #3B4455;\n",
              "      --fill-color: #D2E3FC;\n",
              "      --hover-bg-color: #434B5C;\n",
              "      --hover-fill-color: #FFFFFF;\n",
              "      --disabled-bg-color: #3B4455;\n",
              "      --disabled-fill-color: #666;\n",
              "  }\n",
              "\n",
              "  .colab-df-quickchart {\n",
              "    background-color: var(--bg-color);\n",
              "    border: none;\n",
              "    border-radius: 50%;\n",
              "    cursor: pointer;\n",
              "    display: none;\n",
              "    fill: var(--fill-color);\n",
              "    height: 32px;\n",
              "    padding: 0;\n",
              "    width: 32px;\n",
              "  }\n",
              "\n",
              "  .colab-df-quickchart:hover {\n",
              "    background-color: var(--hover-bg-color);\n",
              "    box-shadow: 0 1px 2px rgba(60, 64, 67, 0.3), 0 1px 3px 1px rgba(60, 64, 67, 0.15);\n",
              "    fill: var(--button-hover-fill-color);\n",
              "  }\n",
              "\n",
              "  .colab-df-quickchart-complete:disabled,\n",
              "  .colab-df-quickchart-complete:disabled:hover {\n",
              "    background-color: var(--disabled-bg-color);\n",
              "    fill: var(--disabled-fill-color);\n",
              "    box-shadow: none;\n",
              "  }\n",
              "\n",
              "  .colab-df-spinner {\n",
              "    border: 2px solid var(--fill-color);\n",
              "    border-color: transparent;\n",
              "    border-bottom-color: var(--fill-color);\n",
              "    animation:\n",
              "      spin 1s steps(1) infinite;\n",
              "  }\n",
              "\n",
              "  @keyframes spin {\n",
              "    0% {\n",
              "      border-color: transparent;\n",
              "      border-bottom-color: var(--fill-color);\n",
              "      border-left-color: var(--fill-color);\n",
              "    }\n",
              "    20% {\n",
              "      border-color: transparent;\n",
              "      border-left-color: var(--fill-color);\n",
              "      border-top-color: var(--fill-color);\n",
              "    }\n",
              "    30% {\n",
              "      border-color: transparent;\n",
              "      border-left-color: var(--fill-color);\n",
              "      border-top-color: var(--fill-color);\n",
              "      border-right-color: var(--fill-color);\n",
              "    }\n",
              "    40% {\n",
              "      border-color: transparent;\n",
              "      border-right-color: var(--fill-color);\n",
              "      border-top-color: var(--fill-color);\n",
              "    }\n",
              "    60% {\n",
              "      border-color: transparent;\n",
              "      border-right-color: var(--fill-color);\n",
              "    }\n",
              "    80% {\n",
              "      border-color: transparent;\n",
              "      border-right-color: var(--fill-color);\n",
              "      border-bottom-color: var(--fill-color);\n",
              "    }\n",
              "    90% {\n",
              "      border-color: transparent;\n",
              "      border-bottom-color: var(--fill-color);\n",
              "    }\n",
              "  }\n",
              "</style>\n",
              "\n",
              "  <script>\n",
              "    async function quickchart(key) {\n",
              "      const quickchartButtonEl =\n",
              "        document.querySelector('#' + key + ' button');\n",
              "      quickchartButtonEl.disabled = true;  // To prevent multiple clicks.\n",
              "      quickchartButtonEl.classList.add('colab-df-spinner');\n",
              "      try {\n",
              "        const charts = await google.colab.kernel.invokeFunction(\n",
              "            'suggestCharts', [key], {});\n",
              "      } catch (error) {\n",
              "        console.error('Error during call to suggestCharts:', error);\n",
              "      }\n",
              "      quickchartButtonEl.classList.remove('colab-df-spinner');\n",
              "      quickchartButtonEl.classList.add('colab-df-quickchart-complete');\n",
              "    }\n",
              "    (() => {\n",
              "      let quickchartButtonEl =\n",
              "        document.querySelector('#df-f3a2afa8-403e-45fd-987b-267ca1825859 button');\n",
              "      quickchartButtonEl.style.display =\n",
              "        google.colab.kernel.accessAllowed ? 'block' : 'none';\n",
              "    })();\n",
              "  </script>\n",
              "</div>\n",
              "\n",
              "    </div>\n",
              "  </div>\n"
            ],
            "application/vnd.google.colaboratory.intrinsic+json": {
              "type": "dataframe",
              "variable_name": "df",
              "summary": "{\n  \"name\": \"df\",\n  \"rows\": 200,\n  \"fields\": [\n    {\n      \"column\": \"TV\",\n      \"properties\": {\n        \"dtype\": \"number\",\n        \"std\": 85.8542363149081,\n        \"min\": 0.7,\n        \"max\": 296.4,\n        \"num_unique_values\": 190,\n        \"samples\": [\n          287.6,\n          286.0,\n          78.2\n        ],\n        \"semantic_type\": \"\",\n        \"description\": \"\"\n      }\n    },\n    {\n      \"column\": \"radio\",\n      \"properties\": {\n        \"dtype\": \"number\",\n        \"std\": 14.846809176168723,\n        \"min\": 0.0,\n        \"max\": 49.6,\n        \"num_unique_values\": 167,\n        \"samples\": [\n          8.2,\n          36.9,\n          44.5\n        ],\n        \"semantic_type\": \"\",\n        \"description\": \"\"\n      }\n    },\n    {\n      \"column\": \"newspaper\",\n      \"properties\": {\n        \"dtype\": \"number\",\n        \"std\": 21.778620838522833,\n        \"min\": 0.3,\n        \"max\": 114.0,\n        \"num_unique_values\": 172,\n        \"samples\": [\n          22.3,\n          5.7,\n          17.0\n        ],\n        \"semantic_type\": \"\",\n        \"description\": \"\"\n      }\n    },\n    {\n      \"column\": \"sales\",\n      \"properties\": {\n        \"dtype\": \"number\",\n        \"std\": 5.217456565710477,\n        \"min\": 1.6,\n        \"max\": 27.0,\n        \"num_unique_values\": 121,\n        \"samples\": [\n          11.4,\n          21.2,\n          12.9\n        ],\n        \"semantic_type\": \"\",\n        \"description\": \"\"\n      }\n    }\n  ]\n}"
            }
          },
          "metadata": {},
          "execution_count": 3
        }
      ],
      "source": [
        "df  = pd.read_csv('Advertising.csv', index_col=0)\n",
        "df.head()"
      ],
      "id": "c33da9b7-7c6b-4002-a2ad-4fd9e1707748"
    },
    {
      "cell_type": "markdown",
      "metadata": {
        "id": "dae0cd8d-3d22-4355-81ff-56010eb9a7db"
      },
      "source": [
        "Note that in this dataset, the first column in the data file is the row label; that’s why we use `index_col=0` in the `read_csv` command. If we would omit that argument, then we would have an additional (unnamed) column in the dataset, containing the row number.\n",
        "\n",
        "(You can try removing the `index_col` argument and re-running the cell above, to see the effect and to understand why we used this argument.)"
      ],
      "id": "dae0cd8d-3d22-4355-81ff-56010eb9a7db"
    },
    {
      "cell_type": "markdown",
      "metadata": {
        "id": "bf226e33-b414-40f5-8698-1cead554995d"
      },
      "source": [
        "#### Split up data\n",
        "\n",
        "We will use 70% of the data for training and the remaining 30% as a held-out test set to evaluate the regression model on data *not* used for training."
      ],
      "id": "bf226e33-b414-40f5-8698-1cead554995d"
    },
    {
      "cell_type": "code",
      "execution_count": 4,
      "metadata": {
        "id": "53564b3a-2780-4cee-be54-13abb4c99914"
      },
      "outputs": [],
      "source": [
        "train, test = train_test_split(df, test_size=0.3, random_state=9)"
      ],
      "id": "53564b3a-2780-4cee-be54-13abb4c99914"
    },
    {
      "cell_type": "markdown",
      "metadata": {
        "id": "38270286-af68-409e-8b2e-437787181c55"
      },
      "source": [
        "We set the `random_state` to a constant so that every time you run this notebook, exactly the same data points will be assigned to test vs. training sets. This is helpful in the debugging stage."
      ],
      "id": "38270286-af68-409e-8b2e-437787181c55"
    },
    {
      "cell_type": "code",
      "execution_count": 5,
      "metadata": {
        "colab": {
          "base_uri": "https://localhost:8080/"
        },
        "id": "52c0cf8d-e2dd-4693-8962-88501736b7cb",
        "outputId": "3092202a-8ccd-4638-c733-1ef921b4e9bf"
      },
      "outputs": [
        {
          "output_type": "stream",
          "name": "stdout",
          "text": [
            "<class 'pandas.core.frame.DataFrame'>\n",
            "Index: 140 entries, 134 to 127\n",
            "Data columns (total 4 columns):\n",
            " #   Column     Non-Null Count  Dtype  \n",
            "---  ------     --------------  -----  \n",
            " 0   TV         140 non-null    float64\n",
            " 1   radio      140 non-null    float64\n",
            " 2   newspaper  140 non-null    float64\n",
            " 3   sales      140 non-null    float64\n",
            "dtypes: float64(4)\n",
            "memory usage: 5.5 KB\n"
          ]
        }
      ],
      "source": [
        "train.info()"
      ],
      "id": "52c0cf8d-e2dd-4693-8962-88501736b7cb"
    },
    {
      "cell_type": "code",
      "execution_count": 6,
      "metadata": {
        "colab": {
          "base_uri": "https://localhost:8080/"
        },
        "id": "370a0f0d-9c59-471d-a56e-6dcf4d5c6ed6",
        "outputId": "321831c2-1610-4374-d611-46a93fa3037e"
      },
      "outputs": [
        {
          "output_type": "stream",
          "name": "stdout",
          "text": [
            "<class 'pandas.core.frame.DataFrame'>\n",
            "Index: 60 entries, 85 to 7\n",
            "Data columns (total 4 columns):\n",
            " #   Column     Non-Null Count  Dtype  \n",
            "---  ------     --------------  -----  \n",
            " 0   TV         60 non-null     float64\n",
            " 1   radio      60 non-null     float64\n",
            " 2   newspaper  60 non-null     float64\n",
            " 3   sales      60 non-null     float64\n",
            "dtypes: float64(4)\n",
            "memory usage: 2.3 KB\n"
          ]
        }
      ],
      "source": [
        "test.info()"
      ],
      "id": "370a0f0d-9c59-471d-a56e-6dcf4d5c6ed6"
    },
    {
      "cell_type": "markdown",
      "metadata": {
        "id": "b5695303-b832-4cb2-8e63-375317aea325"
      },
      "source": [
        "#### Visually inspect the data"
      ],
      "id": "b5695303-b832-4cb2-8e63-375317aea325"
    },
    {
      "cell_type": "code",
      "execution_count": 7,
      "metadata": {
        "colab": {
          "base_uri": "https://localhost:8080/",
          "height": 1000
        },
        "id": "337978cc-04ac-4c90-9f15-34797af93470",
        "outputId": "0cc0994f-ace2-45e9-f365-5937d8d853f0"
      },
      "outputs": [
        {
          "output_type": "display_data",
          "data": {
            "text/plain": [
              "<Figure size 1000x1000 with 20 Axes>"
            ],
            "image/png": "[encoded data removed]"
          },
          "metadata": {}
        }
      ],
      "source": [
        "sns.pairplot(train);"
      ],
      "id": "337978cc-04ac-4c90-9f15-34797af93470"
    },
    {
      "cell_type": "markdown",
      "metadata": {
        "id": "714c1e57-d950-40e7-aa7f-7f5c4719eea3"
      },
      "source": [
        "The most important panels here are on the bottom row, where `sales` is on the vertical axis and the advertising budgets are on the horizontal axes.\n",
        "\n",
        "Looking at this row, we may identify some features that appear to be useful predictive features for `sales`, but we cannot *rule out* any features based on this visualization."
      ],
      "id": "714c1e57-d950-40e7-aa7f-7f5c4719eea3"
    },
    {
      "cell_type": "markdown",
      "metadata": {
        "id": "d45ed7a6-c033-4772-b6c1-3b7ea8482e2f"
      },
      "source": [
        "**Comment on this plot**. What features appear to be related to the target variable? What features appear to be correlated with other features?"
      ],
      "id": "d45ed7a6-c033-4772-b6c1-3b7ea8482e2f"
    },
    {
      "cell_type": "markdown",
      "source": [],
      "metadata": {
        "id": "YknMultKEIxv"
      },
      "id": "YknMultKEIxv"
    },
    {
      "cell_type": "markdown",
      "metadata": {
        "id": "9f7f8e7f-1484-4815-8906-85ccd47678e8"
      },
      "source": [
        "### 1. Fit simple linear regression models\n",
        "\n",
        "Use the training data to fit a simple linear regression to predict product sales, for each of three features: TV ad budget, radio ad budget, and newspaper ad budget.\n",
        "\n",
        "In other words, you will fit *three* regression models,\n",
        "\n",
        "-   a `reg_tv` model that uses `tv` as a feature to predict `sales`\n",
        "-   a `reg_radio` model that uses `radio` as a feature to predict `sales`\n",
        "-   a `reg_news` model that uses `newspaper` as a feature to predict `sales`"
      ],
      "id": "9f7f8e7f-1484-4815-8906-85ccd47678e8"
    },
    {
      "cell_type": "markdown",
      "metadata": {
        "id": "5f68bc70-4ceb-4d68-872f-bdbc349bec16"
      },
      "source": [
        "#### Fit a simple linear regression\n",
        "\n",
        "The code for the first model, `reg_tv`, is provided for you. Fill in `reg_radio` and `reg_news`."
      ],
      "id": "5f68bc70-4ceb-4d68-872f-bdbc349bec16"
    },
    {
      "cell_type": "code",
      "execution_count": 9,
      "metadata": {
        "id": "e29e2b31-be42-4f99-bffb-cd2ba249f995"
      },
      "outputs": [],
      "source": [
        "#grade (write your code in this cell and DO NOT DELETE THIS LINE)\n",
        "\n",
        "reg_tv   =LinearRegression().fit(train[['TV']], train['sales'])\n",
        "reg_radio=LinearRegression().fit(train[['radio']], train['sales'])\n",
        "reg_news =LinearRegression().fit(train[['newspaper']], train['sales'])"
      ],
      "id": "e29e2b31-be42-4f99-bffb-cd2ba249f995"
    },
    {
      "cell_type": "markdown",
      "metadata": {
        "id": "13bd02f4-c093-48c2-8bdd-92c23497f172"
      },
      "source": [
        "#### Look at coefficients\n",
        "\n",
        "Look at the intercept $w_0$ and the slope coefficient $w_1$ of each model. The code for the first model, `reg_tv`, is provided for you."
      ],
      "id": "13bd02f4-c093-48c2-8bdd-92c23497f172"
    },
    {
      "cell_type": "code",
      "execution_count": 11,
      "metadata": {
        "colab": {
          "base_uri": "https://localhost:8080/"
        },
        "id": "297fae8b-351b-4532-986d-795cfc1ad751",
        "outputId": "34306bfa-f579-48ee-804a-a5ef7f41351a"
      },
      "outputs": [
        {
          "output_type": "stream",
          "name": "stdout",
          "text": [
            "TV       :  0.04964468781898984 6.711432632336138\n",
            "Radio    :  0.21062312839115208 8.997640913704718\n",
            "Newspaper:  0.046574464282301664 12.375549417451523\n"
          ]
        }
      ],
      "source": [
        "print(\"TV       : \", reg_tv.coef_[0], reg_tv.intercept_)\n",
        "print(\"Radio    : \", reg_radio.coef_[0], reg_radio.intercept_)\n",
        "print(\"Newspaper: \", reg_news.coef_[0], reg_news.intercept_)"
      ],
      "id": "297fae8b-351b-4532-986d-795cfc1ad751"
    },
    {
      "cell_type": "markdown",
      "metadata": {
        "id": "3f9c1fc4-9191-467f-8a72-14497b27dc1a"
      },
      "source": [
        "#### Plot data and regression line\n",
        "\n",
        "The following cell will show a visualization of the training data and the regression model you fitted in each case.\n",
        "\n",
        "Note that the range of the horizontal axis in each case is very different, because the upper end of the range of spending on TV ads is much larger than e.g. on radio ads. Therefore, you can’t judge the relative slope just by looking at the visualization - you will have to refer back to the slop coefficients you printed above."
      ],
      "id": "3f9c1fc4-9191-467f-8a72-14497b27dc1a"
    },
    {
      "cell_type": "code",
      "execution_count": 12,
      "metadata": {
        "colab": {
          "base_uri": "https://localhost:8080/",
          "height": 319
        },
        "id": "6ee64819-a51a-4d9a-9d90-444d5f09ee14",
        "outputId": "370af4b1-8018-4614-99e7-d1d852e8de79"
      },
      "outputs": [
        {
          "output_type": "display_data",
          "data": {
            "text/plain": [
              "<Figure size 1200x300 with 3 Axes>"
            ],
            "image/png": "[encoded data removed]"
          },
          "metadata": {}
        }
      ],
      "source": [
        "fig = plt.figure(figsize=(12,3))\n",
        "\n",
        "plt.subplot(1,3,1)\n",
        "sns.scatterplot(data=train, x=\"TV\", y=\"sales\");\n",
        "sns.lineplot(data=train, x=\"TV\", y=reg_tv.predict(train[['TV']]), color='red');\n",
        "\n",
        "plt.subplot(1,3,2)\n",
        "sns.scatterplot(data=train, x=\"radio\", y=\"sales\");\n",
        "sns.lineplot(data=train, x=\"radio\", y=reg_radio.predict(train[['radio']]), color='red');\n",
        "\n",
        "plt.subplot(1,3,3)\n",
        "sns.scatterplot(data=train, x=\"newspaper\", y=\"sales\");\n",
        "sns.lineplot(data=train, x=\"newspaper\", y=reg_news.predict(train[['newspaper']]), color='red');"
      ],
      "id": "6ee64819-a51a-4d9a-9d90-444d5f09ee14"
    },
    {
      "cell_type": "markdown",
      "metadata": {
        "id": "3b962308-96fe-421f-a0bd-221d987b69d2"
      },
      "source": [
        "#### Compute R2, MSE for simple regression\n",
        "\n",
        "For each model, let’s get:\n",
        "\n",
        "-   the predictions on the training set: `y_pred_tr_tv`, `y_pred_tr_radio`, `y_pred_tr_news`\n",
        "-   the R2 score on the training set: `r2_tr_tv`, `r2_tr_radio`, `r2_tr_news`\n",
        "-   the MSE on the training set: `mse_tr_tv`, `mse_tr_radio`, `mse_tr_news`\n",
        "\n",
        "These are already provided for you, for the TV case."
      ],
      "id": "3b962308-96fe-421f-a0bd-221d987b69d2"
    },
    {
      "cell_type": "code",
      "execution_count": 14,
      "metadata": {
        "id": "d439e9a9-437d-4db0-bda0-088686be1e4b"
      },
      "outputs": [],
      "source": [
        "#grade (write your code in this cell and DO NOT DELETE THIS LINE)\n",
        "\n",
        "y_pred_tr_tv   =reg_tv.predict(train[['TV']])\n",
        "y_pred_tr_radio=reg_radio.predict(train[['radio']])\n",
        "y_pred_tr_news =reg_news.predict(train[['newspaper']])"
      ],
      "id": "d439e9a9-437d-4db0-bda0-088686be1e4b"
    },
    {
      "cell_type": "code",
      "execution_count": 15,
      "metadata": {
        "id": "68d17e2d-f4fc-4534-a9d7-f64f5e0f2da3"
      },
      "outputs": [],
      "source": [
        "#grade (write your code in this cell and DO NOT DELETE THIS LINE)\n",
        "\n",
        "r2_tr_tv   =metrics.r2_score(train['sales'], y_pred_tr_tv)\n",
        "r2_tr_radio=metrics.r2_score(train['sales'], y_pred_tr_radio)\n",
        "r2_tr_news =metrics.r2_score(train['sales'], y_pred_tr_news)"
      ],
      "id": "68d17e2d-f4fc-4534-a9d7-f64f5e0f2da3"
    },
    {
      "cell_type": "code",
      "execution_count": 16,
      "metadata": {
        "colab": {
          "base_uri": "https://localhost:8080/"
        },
        "id": "c9f62cbd-3c47-4c70-9fbd-cb352b6b9fec",
        "outputId": "3e92c87f-1b16-4194-f27d-83d86220fe22"
      },
      "outputs": [
        {
          "output_type": "stream",
          "name": "stdout",
          "text": [
            "TV       :  0.6462575775839753\n",
            "Radio    :  0.33630082549935214\n",
            "Newspaper:  0.0373981756207491\n"
          ]
        }
      ],
      "source": [
        "print(\"TV       : \", r2_tr_tv)\n",
        "print(\"Radio    : \", r2_tr_radio)\n",
        "print(\"Newspaper: \", r2_tr_news)"
      ],
      "id": "c9f62cbd-3c47-4c70-9fbd-cb352b6b9fec"
    },
    {
      "cell_type": "code",
      "execution_count": 17,
      "metadata": {
        "id": "09f757ab-f77b-42b3-ae33-d9993b2e6867"
      },
      "outputs": [],
      "source": [
        "#grade (write your code in this cell and DO NOT DELETE THIS LINE)\n",
        "\n",
        "mse_tr_tv   =metrics.mean_squared_error(train['sales'], y_pred_tr_tv)\n",
        "mse_tr_radio=metrics.mean_squared_error(train['sales'], y_pred_tr_radio)\n",
        "mse_tr_news =metrics.mean_squared_error(train['sales'], y_pred_tr_news)"
      ],
      "id": "09f757ab-f77b-42b3-ae33-d9993b2e6867"
    },
    {
      "cell_type": "code",
      "execution_count": 18,
      "metadata": {
        "colab": {
          "base_uri": "https://localhost:8080/"
        },
        "id": "46a4ac0b-54c3-463e-9e61-e0d1465978ec",
        "outputId": "b32bfbdc-6fcb-485c-b2c4-efc366fe8905"
      },
      "outputs": [
        {
          "output_type": "stream",
          "name": "stdout",
          "text": [
            "TV       :  9.798510609335318\n",
            "Radio    :  18.384177273212142\n",
            "Newspaper:  26.663650133692155\n"
          ]
        }
      ],
      "source": [
        "print(\"TV       : \", mse_tr_tv)\n",
        "print(\"Radio    : \", mse_tr_radio)\n",
        "print(\"Newspaper: \", mse_tr_news)"
      ],
      "id": "46a4ac0b-54c3-463e-9e61-e0d1465978ec"
    },
    {
      "cell_type": "markdown",
      "metadata": {
        "id": "fd4d6a1f-1369-4d7c-a896-7fc36d37c79a"
      },
      "source": [
        "### 2. Explore the residuals for the single linear regression models\n",
        "\n",
        "Computing MSE or R2 is not sufficient to diagnose a problem with a linear regression.\n",
        "\n",
        "In this section, you will create some additional visualizations of the training data as described below. to help you identify any problems with the regression."
      ],
      "id": "fd4d6a1f-1369-4d7c-a896-7fc36d37c79a"
    },
    {
      "cell_type": "markdown",
      "metadata": {
        "id": "deaa7892-cbea-4bfd-92e8-a23cb9317704"
      },
      "source": [
        "#### Compute residuals\n",
        "\n",
        "First, for each of the three regression models, you will compute the residuals ($y - \\hat{y}$).\n",
        "\n",
        "The code for the TV model is already provided for you."
      ],
      "id": "deaa7892-cbea-4bfd-92e8-a23cb9317704"
    },
    {
      "cell_type": "code",
      "execution_count": null,
      "metadata": {
        "id": "d1ab00ea-fba9-4823-845d-8cfd00674079"
      },
      "outputs": [],
      "source": [
        "#grade (write your code in this cell and DO NOT DELETE THIS LINE)\n",
        "\n",
        "residual_tv_tr   =train['sales']-reg_tv.predict(train[['TV']])\n",
        "residual_news_tr =train['sales']-reg_tv.predict(train[['newspaper']])\n",
        "residual_radio_tr=train['sales']-reg_tv.predict(train[['radio']])"
      ],
      "id": "d1ab00ea-fba9-4823-845d-8cfd00674079"
    },
    {
      "cell_type": "markdown",
      "metadata": {
        "id": "47a62677-8c54-42d3-bd4a-1de30ba1e359"
      },
      "source": [
        "#### Plot predicted vs. actual sales\n",
        "\n",
        "Next, you’ll create a plot of predicted sales vs. actual sales for each of the three models.\n",
        "\n",
        "You will organize these as three *subplots* in one row. In each subplot, for a different model,\n",
        "\n",
        "-   Create a scatter plot of predicted sales ($\\hat{y}$) on the vertical axis, and actual sales ($y$) on the horizontal axis.\n",
        "-   Make sure both axes use the same scale (the range of the vertical axis should be the same as the range of the horizontal axis) and that all three subplots use the same scale. Since the units of `sales` and predicted `sales` should be the same, if we use the same scale we can make direct comparisons based on the appearance of the plots.\n",
        "-   Label each axes, and each plot.\n",
        "\n",
        "Code is provided for you for the TV model - add subplots to the figure to also show the radio model and the newspaper model."
      ],
      "id": "47a62677-8c54-42d3-bd4a-1de30ba1e359"
    },
    {
      "cell_type": "code",
      "execution_count": null,
      "metadata": {
        "id": "714ad89a-928a-4520-8d2d-4949a98d77d1"
      },
      "outputs": [],
      "source": [
        "\n",
        "fig = plt.figure(figsize=(14,4))\n",
        "\n",
        "plt.subplot(1,3,1)\n",
        "sns.scatterplot(data=train, x=\"sales\", y=reg_tv.predict(train[['TV']]));\n",
        "plt.ylabel('Predicted sales');\n",
        "plt.ylim(0,30);\n",
        "plt.xlim(0,30);\n",
        "plt.title(\"Regression on TV\");\n"
      ],
      "id": "714ad89a-928a-4520-8d2d-4949a98d77d1"
    },
    {
      "cell_type": "markdown",
      "metadata": {
        "id": "b439aa27-af1d-4d9c-95f6-c92690fc3e46"
      },
      "source": [
        "**Comment on this plot**. What would you expect this plot to look like for a model that explains the data well? What does the plot tell you about your models in this specific case?"
      ],
      "id": "b439aa27-af1d-4d9c-95f6-c92690fc3e46"
    },
    {
      "cell_type": "markdown",
      "metadata": {
        "id": "769ff6cc-0e0c-4178-8bda-150e00a18fc2"
      },
      "source": [
        "#### Plot residuals vs. actual sales\n",
        "\n",
        "Next, you’ll create a plot of residuals vs. actual sales for each of the three models.\n",
        "\n",
        "You will organize these as three *subplots* in one row. In each subplot, for a different model,\n",
        "\n",
        "-   Create a scatter plot with the residuals ($y - \\hat{y}$) on the vertical axis, and actual sales ($y$) on the horizontal axis.\n",
        "-   Use the same vertical scale for all three subplots, and the same horizontal scale for all three subplots (but the vertical scale and the horizontal scale will not be the same as one another!).\n",
        "-   Label each axes, and each plot.\n",
        "\n",
        "Code is provided for you for the TV model - add subplots to the figure to also show the radio model and the newspaper model."
      ],
      "id": "769ff6cc-0e0c-4178-8bda-150e00a18fc2"
    },
    {
      "cell_type": "code",
      "execution_count": null,
      "metadata": {
        "id": "fa88711d-afcf-4052-b2f3-1ceab6a5ef80"
      },
      "outputs": [],
      "source": [
        "\n",
        "fig = plt.figure(figsize=(14,4))\n",
        "\n",
        "plt.subplot(1,3,1)\n",
        "sns.scatterplot(x=train['sales'], y=residual_tv_tr);\n",
        "plt.xlabel('Actual Sales')\n",
        "plt.ylabel('Residual');\n",
        "plt.ylim(-20, 20)\n",
        "plt.title(\"Regression on TV\");\n"
      ],
      "id": "fa88711d-afcf-4052-b2f3-1ceab6a5ef80"
    },
    {
      "cell_type": "markdown",
      "metadata": {
        "id": "937630a7-5375-4fb6-805c-bf35889f7e18"
      },
      "source": [
        "**Comment on this plot**. Is there a pattern in the residuals (and if so, what might it indicate), or do they appear to have no pattern with respect to actual sales?"
      ],
      "id": "937630a7-5375-4fb6-805c-bf35889f7e18"
    },
    {
      "cell_type": "markdown",
      "metadata": {
        "id": "2be8037f-cc6d-48f3-9086-83e388e50fdd"
      },
      "source": [
        "#### Plot residuals vs. features\n",
        "\n",
        "Finally, you’ll create a plot of residuals vs. features, for each combination of “model” and “feature” (9 subplots total).\n",
        "\n",
        "In each column, for a different model,\n",
        "\n",
        "-   create a scatter plot with the residuals ($y - \\hat{y}$) on the vertical axis, and the feature ($x$) on the horizontal axis, for each feature.\n",
        "-   Use the same vertical scale for all subplots (but the horizontal scale will depend on the feature! The upper end of the TV ad spending range is different from the radio ad spending range.)\n",
        "-   Make sure to clearly label each axis, and also label each subplot with a title that indicates which regression model it uses.\n",
        "\n",
        "Code is provided for you for the TV model - add subplots to the figure to also show the radio model and the newspaper model."
      ],
      "id": "2be8037f-cc6d-48f3-9086-83e388e50fdd"
    },
    {
      "cell_type": "code",
      "execution_count": null,
      "metadata": {
        "id": "38abf999-34fc-4296-8e12-696193a37956"
      },
      "outputs": [],
      "source": [
        "\n",
        "plt.figure(figsize=(13,12))\n",
        "\n",
        "plt.subplot(3,3,1)\n",
        "sns.scatterplot(x=train['TV'], y=residual_tv_tr);\n",
        "plt.xlabel('TV ad $')\n",
        "plt.ylabel('Residual');\n",
        "plt.ylim(-20, 20);\n",
        "plt.title(\"Regression on TV\");\n",
        "\n",
        "plt.subplot(3,3,4)\n",
        "sns.scatterplot(x=train['radio'], y=residual_tv_tr);\n",
        "plt.xlabel('Radio ad $')\n",
        "plt.ylabel('Residual');\n",
        "plt.ylim(-20, 20);\n",
        "\n",
        "plt.subplot(3,3,7)\n",
        "sns.scatterplot(x=train['newspaper'], y=residual_tv_tr);\n",
        "plt.xlabel('Newspaper ad $')\n",
        "plt.ylabel('Residual');\n",
        "plt.ylim(-20, 20);\n",
        "\n",
        "plt.tight_layout();"
      ],
      "id": "38abf999-34fc-4296-8e12-696193a37956"
    },
    {
      "cell_type": "markdown",
      "metadata": {
        "id": "fbbabc98-336c-46c1-9dde-be150ced0c10"
      },
      "source": [
        "**Comment on this plot**. Is there a pattern in the residuals (and if so, what might it indicate), or do they appear to have no pattern with respect to each of the three features?"
      ],
      "id": "fbbabc98-336c-46c1-9dde-be150ced0c10"
    },
    {
      "cell_type": "markdown",
      "metadata": {
        "id": "29ad9a04-abf3-4d97-81fe-f178e2c1a4dc"
      },
      "source": [
        "### 3. Try a multiple linear regression\n",
        "\n",
        "Next, you will fit a multiple linear regression to predict product sales, using all three features - TV ad budget, radio ad budget, and newspaper ad budget - to train *one* model.\n",
        "\n",
        "The code to fit the model and look at the coefficients is provided for you."
      ],
      "id": "29ad9a04-abf3-4d97-81fe-f178e2c1a4dc"
    },
    {
      "cell_type": "markdown",
      "metadata": {
        "id": "32a09ec0-7fda-487e-a14f-c7a5d15d2188"
      },
      "source": [
        "#### Fit a multiple linear regression"
      ],
      "id": "32a09ec0-7fda-487e-a14f-c7a5d15d2188"
    },
    {
      "cell_type": "code",
      "execution_count": null,
      "metadata": {
        "id": "982c4c81-2da7-4a24-b95c-99cbca30e4b5"
      },
      "outputs": [],
      "source": [
        "#grade (write your code in this cell and DO NOT DELETE THIS LINE)\n",
        "\n",
        "reg_multi = LinearRegression().fit(train[['TV', 'radio', 'newspaper']], train['sales'])"
      ],
      "id": "982c4c81-2da7-4a24-b95c-99cbca30e4b5"
    },
    {
      "cell_type": "markdown",
      "metadata": {
        "id": "8302e678-29fe-4a9e-bc77-d4d63429f10d"
      },
      "source": [
        "#### Look at coefficients"
      ],
      "id": "8302e678-29fe-4a9e-bc77-d4d63429f10d"
    },
    {
      "cell_type": "code",
      "execution_count": null,
      "metadata": {
        "id": "80db5cd1-2f84-4bcb-afeb-7865b67a1557"
      },
      "outputs": [],
      "source": [
        "print(\"Coefficients (TV, radio, newspaper):\", reg_multi.coef_)\n",
        "print(\"Intercept: \", reg_multi.intercept_)"
      ],
      "id": "80db5cd1-2f84-4bcb-afeb-7865b67a1557"
    },
    {
      "cell_type": "markdown",
      "metadata": {
        "id": "e4e219f1-79be-4edc-9333-298d94453a3b"
      },
      "source": [
        "#### Compute R2, MSE for multiple regression\n",
        "\n",
        "Then, let’s get:\n",
        "\n",
        "-   the predictions on the training set: `y_pred_tr_multi`\n",
        "-   the R2 score on the training set: `r2_tr_multi`\n",
        "-   the MSE on the training set: `mse_tr_multi`"
      ],
      "id": "e4e219f1-79be-4edc-9333-298d94453a3b"
    },
    {
      "cell_type": "code",
      "execution_count": null,
      "metadata": {
        "id": "84dd181b-de81-4e36-a68d-ec16102b1a22"
      },
      "outputs": [],
      "source": [
        "#grade (write your code in this cell and DO NOT DELETE THIS LINE)\n",
        "\n",
        "# y_pred_tr_multi = ...\n",
        "# r2_tr_multi  = ...\n",
        "# mse_tr_multi = ..."
      ],
      "id": "84dd181b-de81-4e36-a68d-ec16102b1a22"
    },
    {
      "cell_type": "code",
      "execution_count": null,
      "metadata": {
        "id": "2129ad30-7cd6-410a-acc9-00e4c17011e8"
      },
      "outputs": [],
      "source": [
        "# print(\"Multiple regression R2:  \", r2_tr_multi)\n",
        "# print(\"Multiple regression MSE: \", mse_tr_multi)\n"
      ],
      "id": "2129ad30-7cd6-410a-acc9-00e4c17011e8"
    },
    {
      "cell_type": "markdown",
      "metadata": {
        "id": "5639e89d-ca13-4c68-8681-3b81db35e7f8"
      },
      "source": [
        "#### Compute residuals\n",
        "\n",
        "Compute the residuals ($y - \\hat{y}$)."
      ],
      "id": "5639e89d-ca13-4c68-8681-3b81db35e7f8"
    },
    {
      "cell_type": "code",
      "execution_count": null,
      "metadata": {
        "id": "387d5995-b1e4-4211-a466-08e67ad73ccd"
      },
      "outputs": [],
      "source": [
        "#grade (write your code in this cell and DO NOT DELETE THIS LINE)\n",
        "\n",
        "# residual_multi_tr = ..."
      ],
      "id": "387d5995-b1e4-4211-a466-08e67ad73ccd"
    },
    {
      "cell_type": "markdown",
      "metadata": {
        "id": "67917a45-1353-4b25-b817-ca233de0431c"
      },
      "source": [
        "#### Plot predicted vs. actual sales\n",
        "\n",
        "Next, plot predicted sales vs. actual sales for the multiple regression model.\n",
        "\n",
        "-   Create a scatter plot of predicted sales ($\\hat{y}$) on the vertical axis, and actual sales ($y$) on the horizontal axis.\n",
        "-   Make sure both axes use the same scale (the range of the vertical axis should be the same as the range of the horizontal axis).\n",
        "-   Label each axes."
      ],
      "id": "67917a45-1353-4b25-b817-ca233de0431c"
    },
    {
      "cell_type": "code",
      "execution_count": null,
      "metadata": {
        "id": "5ebd16eb-7774-4033-a07e-cf1b3fd3e478"
      },
      "outputs": [],
      "source": [
        "# plot\n"
      ],
      "id": "5ebd16eb-7774-4033-a07e-cf1b3fd3e478"
    },
    {
      "cell_type": "markdown",
      "metadata": {
        "id": "f2a89874-8924-4d39-b08e-7c8503bd3988"
      },
      "source": [
        "**Comment on this plot**. What would you expect this plot to look like for a model that explains the data well? What does the plot tell you about your model in this specific case?"
      ],
      "id": "f2a89874-8924-4d39-b08e-7c8503bd3988"
    },
    {
      "cell_type": "markdown",
      "metadata": {
        "id": "182b5492-4b85-4407-b282-395b45ba09d0"
      },
      "source": [
        "#### Plot residuals vs. actual sales\n",
        "\n",
        "Next, create a plot of residuals vs. actual sales for the multiple regression model.\n",
        "\n",
        "-   Create a scatter plot with the residuals ($y - \\hat{y}$) on the vertical axis, and actual sales ($y$) on the horizontal axis.\n",
        "-   Label each axes, and each plot."
      ],
      "id": "182b5492-4b85-4407-b282-395b45ba09d0"
    },
    {
      "cell_type": "code",
      "execution_count": null,
      "metadata": {
        "id": "986664d2-e962-45d7-a716-3862e49c4a0a"
      },
      "outputs": [],
      "source": [
        "# plot\n"
      ],
      "id": "986664d2-e962-45d7-a716-3862e49c4a0a"
    },
    {
      "cell_type": "markdown",
      "metadata": {
        "id": "e901681d-ebaa-41c5-bd93-0a5db704fe46"
      },
      "source": [
        "**Comment on this plot**. Is there a pattern in the residuals (and if so, what might it indicate), or do they appear to have no pattern with respect to actual sales?"
      ],
      "id": "e901681d-ebaa-41c5-bd93-0a5db704fe46"
    },
    {
      "cell_type": "markdown",
      "metadata": {
        "id": "bf659cdf-fde4-4234-bbde-7b26d2af5049"
      },
      "source": [
        "#### Plot residuals vs. features\n",
        "\n",
        "Finally, you’ll create a plot of residuals vs. features, for each of the three features, for your multiple regression model. Put your three subplots in one row.\n",
        "\n",
        "In each subplot,\n",
        "\n",
        "-   create a scatter plot with the residuals ($y - \\hat{y}$) on the vertical axis, and the feature ($x$) on the horizontal axis.\n",
        "-   Use the same vertical scale for all subplots (but the horizontal scale will depend on the feature! The upper end of the TV ad spending range is different from the radio ad spending range.)\n",
        "-   Make sure to clearly label each axis, and also label each subplot with a title that indicates which regression model it uses."
      ],
      "id": "bf659cdf-fde4-4234-bbde-7b26d2af5049"
    },
    {
      "cell_type": "code",
      "execution_count": null,
      "metadata": {
        "id": "6f64a0de-ad42-47d7-ae29-55c653023d13"
      },
      "outputs": [],
      "source": [
        "# plot\n"
      ],
      "id": "6f64a0de-ad42-47d7-ae29-55c653023d13"
    },
    {
      "cell_type": "markdown",
      "metadata": {
        "id": "f2ae810e-d7d2-4353-a610-a53dc5b1830f"
      },
      "source": [
        "**Comment on this plot**. Is there a pattern in the residuals (and if so, what might it indicate), or do they appear to have no pattern with respect to each of the three features?"
      ],
      "id": "f2ae810e-d7d2-4353-a610-a53dc5b1830f"
    },
    {
      "cell_type": "markdown",
      "metadata": {
        "id": "571cedca-e84a-498e-a850-06d4f95d39df"
      },
      "source": [
        "### 4. Decomposing the multiple regression with FWL"
      ],
      "id": "571cedca-e84a-498e-a850-06d4f95d39df"
    },
    {
      "cell_type": "markdown",
      "metadata": {
        "id": "fbd617c1-3767-4df4-a2e8-88f79df20c0e"
      },
      "source": [
        "In the previous section, you may have noticed that the coefficient for a given feature - say, newspaper - is different\n",
        "\n",
        "-   in the simple linear regression on newspaper\n",
        "-   and in the multiple regression which includes newspaper as well as other features.\n",
        "\n",
        "In particular, in the simple linear regression we estimated that newspaper ad spending was associated with a positive effect on sales, similar in magnitude to TV ad spending. Now, the newspaper ads are estimated as having an association much closer to zero.\n",
        "\n",
        "This is because:\n",
        "\n",
        "-   In the simple regression case, the coefficent for newspaper ads represents the effect of an increase in newspaper advertising.\n",
        "-   In the multiple regression case, the coefficient for newspaper ads represents the effect of an increase in newspaper advertising **while holding TV and radio advertising constant**.\n",
        "\n",
        "It turns out that in the simple linear regression on newspaper ad budget, the regression was “learning” the effect of a feature that was correlated with newspaper ad budget, not the effect of newspaper ad budget itself. We observe that there is a correlation between newspaper ad budget and radio ad budget, and a smaller correlation between newspaper ad budget and TV ad budget. (This is logical; if an ad campaign spends a lot of money on one medium, they are likely to spend a lot on others as well.)"
      ],
      "id": "fbd617c1-3767-4df4-a2e8-88f79df20c0e"
    },
    {
      "cell_type": "markdown",
      "metadata": {
        "id": "4ba68824-21f8-471c-9317-996760da2f91"
      },
      "source": [
        "You can see this pairwise correlation in the following table."
      ],
      "id": "4ba68824-21f8-471c-9317-996760da2f91"
    },
    {
      "cell_type": "code",
      "execution_count": null,
      "metadata": {
        "id": "2276e91b-fa22-4272-a297-b23427e9834b"
      },
      "outputs": [],
      "source": [
        "train[['TV', 'radio', 'newspaper']].corr()"
      ],
      "id": "2276e91b-fa22-4272-a297-b23427e9834b"
    },
    {
      "cell_type": "markdown",
      "metadata": {
        "id": "f6ef0acc-671d-4217-be86-1e9245ad151d"
      },
      "source": [
        "In this section, we will explore this further using the Frisch-Waugh-Lovell (FWL) theorem. This theorem will help us understand in greater depth what the coefficient in the multiple regression represents, when there are correlated features included in the regression."
      ],
      "id": "f6ef0acc-671d-4217-be86-1e9245ad151d"
    },
    {
      "cell_type": "markdown",
      "metadata": {
        "id": "2150de9c-43d2-46e4-9eff-af1baf76339c"
      },
      "source": [
        "#### Background: Frisch-Waugh-Lovell (FWL) theorem\n",
        "\n",
        "Suppose we have a linear model with $k$ features:\n",
        "\n",
        "$$\\hat{y} = w_0 + w_1 x_1 + \\ldots + w_k x_k + e$$\n",
        "\n",
        "and residual $e = y - \\hat{y}$, which is the part of $y$ that is not explained by the regression model.\n",
        "\n",
        "The FWL theorem tells us that we can get $w_j$, the association between $x_j$ and $y$ *while holding other features constant*, with the following procedure to split up our multiple linear regression into *orthogonal* components - having no correlation."
      ],
      "id": "2150de9c-43d2-46e4-9eff-af1baf76339c"
    },
    {
      "cell_type": "markdown",
      "metadata": {
        "id": "bd4e011e-5a35-491f-9450-67a2b8acb053"
      },
      "source": [
        "##### Step 1\n",
        "\n",
        "First, we will split the feature $x_j$ into (1) the information that is already present in other features, and (2) the information that is not already in other features.\n",
        "\n",
        "How do you split the feature $x_j$ into parts that are correlated and uncorrelated with other features? With another regression model! We will train a model using all features *expect* $x_j$ to *predict* $x_j$, like this:\n",
        "\n",
        "$$\\hat{x_j} = w_0^{x_j} + \\sum_{k \\neq j} w^{x_{j}}_{k}x_{k}$$\n",
        "\n",
        "where\n",
        "\n",
        "-   the superscript $x_j$ on the coefficients denotes that these are the coefficients for the model to predict $x_j$\n",
        "-   $\\hat{x_j}$ is the estimate of $x_j$ according to this model, and this is the part of $x_j$ whose information is already in the other features\n",
        "-   the residual of this model, $\\epsilon^{x_{j}} = x_j - \\hat{x_j}$, is the part of $x_j$ whose information is *not* already in the other features."
      ],
      "id": "bd4e011e-5a35-491f-9450-67a2b8acb053"
    },
    {
      "cell_type": "markdown",
      "metadata": {
        "id": "ef70ade8-e176-41ff-8095-47731d9df5f7"
      },
      "source": [
        "##### Step 2\n",
        "\n",
        "Then, we’ll split the target variable $y$ into (1) the part that can be predicted using the other features *without* $x_j$, and (2) the part that cannot be predicted without $x_j$. Of course, we will do this in a similar way, with another regression model:\n",
        "\n",
        "$$\\hat{y} = w_0^{y} + \\sum_{k \\neq j} w^{y}_{k}x_{k}$$\n",
        "\n",
        "where\n",
        "\n",
        "-   the superscript $y$ on the coefficients denotes that these are the coefficients for the model to predict $y$, but without $x_j$\n",
        "-   the residual of this model, $\\epsilon^{y} = y - \\hat{y}$, is the part of $y$ that cannot be predicted without $x_j$."
      ],
      "id": "ef70ade8-e176-41ff-8095-47731d9df5f7"
    },
    {
      "cell_type": "markdown",
      "metadata": {
        "id": "afc724e2-dcc9-49ee-8d94-ecb452d9846d"
      },
      "source": [
        "##### Step 3\n",
        "\n",
        "This is the really interesting part! The FWL tells us that we can now train a model to:\n",
        "\n",
        "-   predict $\\epsilon^y$, the part of $y$ that is *not* predicted by the regression on features excluding $x_j$\n",
        "-   as a simple regression on feature $\\epsilon^{x_j}$, the part of $x_j$ that is *not* already “in” the other features\n",
        "\n",
        "$$\\epsilon^{y} = {w}^{*}_{j}\\epsilon^{x_j} + \\epsilon^{*}$$\n",
        "\n",
        "and that\n",
        "\n",
        "-   the coefficient $w^{*}_{j}$ - which tells us the association between “the parts of $x_j$ not in the other features” and “the parts of $y$ not predicted by the other features” - is going to be the **same** as $w_j$ in the multiple regression model we fitted earlier!\n",
        "-   and the residuals $\\epsilon^{*}$ will be the same as the residuals of the multiple regression model we fitted earlier."
      ],
      "id": "afc724e2-dcc9-49ee-8d94-ecb452d9846d"
    },
    {
      "cell_type": "markdown",
      "metadata": {
        "id": "208e169d-872a-4756-802f-9b756dd5d34b"
      },
      "source": [
        "#### Apply FWL to the “newspaper” feature\n",
        "\n",
        "Let us try it now on the `newspaper` feature. We noticed earlier that `newspaper` had a large positive coefficient in the simple regression model, but not in the multiple regression model. We also noticed that newspaper ad spending was strongly correlated with radio ad spending.\n",
        "\n",
        "Note: we will use the training data *only* throughout this section."
      ],
      "id": "208e169d-872a-4756-802f-9b756dd5d34b"
    },
    {
      "cell_type": "markdown",
      "metadata": {
        "id": "0315c9d8-3b51-414d-9e70-736f1abe3bee"
      },
      "source": [
        "##### Step 1\n",
        "\n",
        "First, use the *other* features (`TV` and `radio`) to train a model `reg_news_x` to “predict” `newspaper`.\n",
        "\n",
        "-   The prediction of the model tells us: how much of the “signal” in the `newspaper` feature is already present in the other features?\n",
        "-   The residual of the model tells us: how much of the “signal” in the `newspaper` feature is *not* present in the other features? The “model” cannot predict this part of `newspaper` using the `TV` and `radio` features.\n",
        "\n",
        "Save the model prediction on the training data in `xhat_news_x` and the residual for the training data in `residual_news_x`."
      ],
      "id": "0315c9d8-3b51-414d-9e70-736f1abe3bee"
    },
    {
      "cell_type": "code",
      "execution_count": null,
      "metadata": {
        "id": "e06fecbc-4c03-4b8e-bef8-76df06d9d91f"
      },
      "outputs": [],
      "source": [
        "#grade (write your code in this cell and DO NOT DELETE THIS LINE)\n",
        "\n",
        "# reg_news_x  ...\n",
        "# xhat_news_x = ...\n",
        "# residual_news_x = ..."
      ],
      "id": "e06fecbc-4c03-4b8e-bef8-76df06d9d91f"
    },
    {
      "cell_type": "markdown",
      "metadata": {
        "id": "0ca78f99-9171-44f6-9345-5f69f7dc5fa4"
      },
      "source": [
        "We can see that the residual is the part of `newspaper` that is uncorrelated with `radio` and `TV`."
      ],
      "id": "0ca78f99-9171-44f6-9345-5f69f7dc5fa4"
    },
    {
      "cell_type": "code",
      "execution_count": null,
      "metadata": {
        "id": "fa4ce5cb-61e6-4339-9001-f1239054e6d2"
      },
      "outputs": [],
      "source": [
        "pd.concat([train['TV'], train['radio'], pd.Series(residual_news_x, name='residual')], axis=1).corr()"
      ],
      "id": "fa4ce5cb-61e6-4339-9001-f1239054e6d2"
    },
    {
      "cell_type": "markdown",
      "metadata": {
        "id": "9380dc93-851e-4ed9-ba42-6fb000143c0d"
      },
      "source": [
        "while the prediction of that “model” is, of course, correlated with the features used for prediction - it is a linear combination of those features. (The pairwise correlation is not ideal for measuring this, since $w_j x_j$ appears as noise with respect to an uncorrelated feature $x_k$, but we can get some idea.)"
      ],
      "id": "9380dc93-851e-4ed9-ba42-6fb000143c0d"
    },
    {
      "cell_type": "code",
      "execution_count": null,
      "metadata": {
        "id": "d002c948-7b85-4f63-b55c-4d4d3975f6c5"
      },
      "outputs": [],
      "source": [
        "pd.concat([train['TV'], train['radio'], pd.Series(xhat_news_x, name='prediction')], axis=1).corr()"
      ],
      "id": "d002c948-7b85-4f63-b55c-4d4d3975f6c5"
    },
    {
      "cell_type": "markdown",
      "metadata": {
        "id": "4100e0d8-a1c1-4269-9df3-1f92eab0f087"
      },
      "source": [
        "You can think of these two “components” of the “newspaper” feature as:\n",
        "\n",
        "-   the part of the “newspaper” feature that reflects spending specifically on the newspaper medium. (the residual)\n",
        "-   and the part that reflects the “spendiness” of the ad campaign, which is also reflected in TV and radio. (the prediction)"
      ],
      "id": "4100e0d8-a1c1-4269-9df3-1f92eab0f087"
    },
    {
      "cell_type": "markdown",
      "metadata": {
        "id": "70071a3f-785c-4c49-ab6c-69102171206f"
      },
      "source": [
        "Let’s visualize these relationships. In the next cell, we will create a 2x2 grid of subplots:\n",
        "\n",
        "-   On the top row, we use seaborn’s `regplot` to put `xhat_news_x` feature on the vertical axis, and the `TV` and `radio` features, respectively, on the horizontal axis. The `regplot` is a scatter plot with a simple linear regression line overlaid on top, to make it easier to see an association. Note that the horizontal scale of each subplot will be different, since the range of spending on TV ads is not the same as the range of spending on radio ads.\n",
        "-   On the bottom row, we will do the same, but with `residual_news_x` on the vertical axis."
      ],
      "id": "70071a3f-785c-4c49-ab6c-69102171206f"
    },
    {
      "cell_type": "code",
      "execution_count": null,
      "metadata": {
        "id": "894ae1a1-b559-4558-8eba-3fedf12ceebb"
      },
      "outputs": [],
      "source": [
        "plt.figure(figsize=(6,6))\n",
        "\n",
        "plt.subplot(2,2,1)\n",
        "sns.regplot(x=train['TV'], y=xhat_news_x);\n",
        "plt.xlabel('TV ad $')\n",
        "plt.ylabel('$\\hat{x_j}$');\n",
        "\n",
        "\n",
        "plt.subplot(2,2,2)\n",
        "sns.regplot(x=train['radio'], y=xhat_news_x);\n",
        "plt.xlabel('Radio ad $')\n",
        "plt.ylabel('$\\hat{x_j}$');\n",
        "\n",
        "plt.subplot(2,2,3)\n",
        "sns.regplot(x=train['TV'], y=residual_news_x);\n",
        "plt.xlabel('TV ad $')\n",
        "plt.ylabel('$\\epsilon^{x_j}$');\n",
        "\n",
        "plt.subplot(2,2,4)\n",
        "sns.regplot(x=train['radio'], y=residual_news_x);\n",
        "plt.xlabel('Radio ad $')\n",
        "plt.ylabel('$\\epsilon^{x_j}$');\n",
        "\n",
        "plt.tight_layout();"
      ],
      "id": "894ae1a1-b559-4558-8eba-3fedf12ceebb"
    },
    {
      "cell_type": "markdown",
      "metadata": {
        "id": "cfa9ac7c-19c3-4ec7-975d-d952c04cd381"
      },
      "source": [
        "**Comment on the results**. What do you notice about the relationship between $\\hat{x_{j}}$ and the other features, vs the relationship between $\\epsilon^{x_{j}}$ and the other features? (Note: when you judge the relative slope of the line in these plots, don’t forget to be mindful of the different horizontal scales of your plots!)"
      ],
      "id": "cfa9ac7c-19c3-4ec7-975d-d952c04cd381"
    },
    {
      "cell_type": "markdown",
      "metadata": {
        "id": "e0ef0b4a-6cb4-4f4b-a8ff-b19099ee84de"
      },
      "source": [
        "##### Step 2\n",
        "\n",
        "Now, train a model `reg_news_y` to predict “sales” *without* `newspaper`, using only `TV` and `radio` features. Save the prediction of this model on the training data in `yhat_news_y`, and the residuals of this model for the training data in `residual_news_y`."
      ],
      "id": "e0ef0b4a-6cb4-4f4b-a8ff-b19099ee84de"
    },
    {
      "cell_type": "code",
      "execution_count": null,
      "metadata": {
        "id": "f8aed59e-97c2-477a-b1b3-9ecad96e4893"
      },
      "outputs": [],
      "source": [
        "#grade (write your code in this cell and DO NOT DELETE THIS LINE)\n",
        "\n",
        "# reg_news_y  = ...\n",
        "# yhat_news_y = ...\n",
        "# residual_news_y = ..."
      ],
      "id": "f8aed59e-97c2-477a-b1b3-9ecad96e4893"
    },
    {
      "cell_type": "markdown",
      "metadata": {
        "id": "65dc78d1-a0e6-4150-a81b-d39b300e55ad"
      },
      "source": [
        "and, we’ll use this to generate a similar plot -"
      ],
      "id": "65dc78d1-a0e6-4150-a81b-d39b300e55ad"
    },
    {
      "cell_type": "code",
      "execution_count": null,
      "metadata": {
        "id": "ccbd2515-47ec-45a2-8367-5ea1dad50d7d"
      },
      "outputs": [],
      "source": [
        "plt.figure(figsize=(6,6))\n",
        "\n",
        "plt.subplot(2,2,1)\n",
        "sns.regplot(x=train['TV'], y=yhat_news_y);\n",
        "plt.xlabel('TV ad $')\n",
        "plt.ylabel('$\\hat{y}$');\n",
        "\n",
        "\n",
        "plt.subplot(2,2,2)\n",
        "sns.regplot(x=train['radio'], y=yhat_news_y);\n",
        "plt.xlabel('Radio ad $')\n",
        "plt.ylabel('$\\hat{y}$');\n",
        "\n",
        "plt.subplot(2,2,3)\n",
        "sns.regplot(x=train['TV'], y=residual_news_y);\n",
        "plt.xlabel('TV ad $')\n",
        "plt.ylabel('$\\epsilon^{y}$');\n",
        "\n",
        "plt.subplot(2,2,4)\n",
        "sns.regplot(x=train['radio'], y=residual_news_y);\n",
        "plt.xlabel('Radio ad $')\n",
        "plt.ylabel('$\\epsilon^{y}$');\n",
        "\n",
        "plt.tight_layout();"
      ],
      "id": "ccbd2515-47ec-45a2-8367-5ea1dad50d7d"
    },
    {
      "cell_type": "markdown",
      "metadata": {
        "id": "9bbfb823-2e62-42bd-a9ed-55d7b83babf3"
      },
      "source": [
        "Once again, you can think of these two “components” of `sales` as:\n",
        "\n",
        "-   the part of `sales` that is not predicted by the model on `TV` and `radio`. (the residual)\n",
        "-   and the part that *is* predicted by the model on `TV` and `radio`. (the prediction)"
      ],
      "id": "9bbfb823-2e62-42bd-a9ed-55d7b83babf3"
    },
    {
      "cell_type": "markdown",
      "metadata": {
        "id": "286e7c64-ba98-423d-95e2-90ac95ab9053"
      },
      "source": [
        "**Comment on the results**. What do you notice about the relationship between $\\hat{y}$ and the other (not-$x_j$) features, vs the relationship between $\\epsilon^{y}$ and the other features?"
      ],
      "id": "286e7c64-ba98-423d-95e2-90ac95ab9053"
    },
    {
      "cell_type": "markdown",
      "metadata": {
        "id": "bde05996-2f8d-49ba-b70e-9c6c65f56739"
      },
      "source": [
        "##### Step 3\n",
        "\n",
        "Finally, train a model `reg_news_fwl` on the residuals of the other two models! In this linear regression,\n",
        "\n",
        "-   the feature is `residual_news_x`\n",
        "-   the target variable is `residual_news_y`\n",
        "-   you will set `fit_intercept = False` - there is no $w_0$, since both feature and target variable are already zero-mean.\n",
        "\n",
        "Save the predictions on the training set in `yhat_news_fwl`, and the residual in `residual_news_fwl`."
      ],
      "id": "bde05996-2f8d-49ba-b70e-9c6c65f56739"
    },
    {
      "cell_type": "code",
      "execution_count": null,
      "metadata": {
        "id": "c8658d12-8195-4a04-bc45-73e61336b187"
      },
      "outputs": [],
      "source": [
        "#grade (write your code in this cell and DO NOT DELETE THIS LINE)\n",
        "\n",
        "# reg_news_fwl  = ...\n",
        "# yhat_news_fwl = ...\n",
        "# residual_news_fwl = ..."
      ],
      "id": "c8658d12-8195-4a04-bc45-73e61336b187"
    },
    {
      "cell_type": "markdown",
      "metadata": {
        "id": "28c19368-fd18-4915-a609-80e8bc3371c2"
      },
      "source": [
        "Check the coefficient of this model -"
      ],
      "id": "28c19368-fd18-4915-a609-80e8bc3371c2"
    },
    {
      "cell_type": "code",
      "execution_count": null,
      "metadata": {
        "id": "d9e3df82-c171-48ac-8745-223f0fb320e5"
      },
      "outputs": [],
      "source": [
        "reg_news_fwl.coef_"
      ],
      "id": "d9e3df82-c171-48ac-8745-223f0fb320e5"
    },
    {
      "cell_type": "markdown",
      "metadata": {
        "id": "8ccec184-6c7b-4145-b53d-5a1ff7ea25f8"
      },
      "source": [
        "and compare it to the coefficient for `newspaper` in the simple regression `reg_news`, and in the multiple regression `reg_multi`."
      ],
      "id": "8ccec184-6c7b-4145-b53d-5a1ff7ea25f8"
    },
    {
      "cell_type": "markdown",
      "metadata": {
        "id": "76e20e58-c280-4054-a3a2-cf73bbcb1281"
      },
      "source": [
        "You can see that\n",
        "\n",
        "-   the association between “the part of `newspaper` *not* in `radio` or `TV`” and “the part of `sales` *not* predicted by `radio` or `TV`” (from this “residualized” model)\n",
        "-   is exactly the same as “the association between `newspaper` and `sales` when `radio` and `TV` are held constant” (from the multiple regression model fitted in the previous section).\n",
        "\n",
        "Furthermore, this “residualized” model helps us understand that part of `residual_news_y` is “explained” by “the part of `newspaper` *not* in `radio` or `TV`”, and part is not.\n",
        "\n",
        "We can see this more clearly in the following plot, which shows:\n",
        "\n",
        "-   `sales` vs `newspaper` with the regression line showing the effect of `newspaper`, according to the regression on `newspaper` alone.\n",
        "-   `sales` vs `newspaper` with the regression line showing the effect of `newspaper`, according to the multiple regression model.\n",
        "-   and the “residualized” `sales` vs “residualized” `newspaper` showing the effect of `newspaper` according to the FWL regression."
      ],
      "id": "76e20e58-c280-4054-a3a2-cf73bbcb1281"
    },
    {
      "cell_type": "code",
      "execution_count": null,
      "metadata": {
        "id": "3f1a3afd-cd2f-4ebb-9e4b-0ee5dd0b60b4"
      },
      "outputs": [],
      "source": [
        "\n",
        "plt.figure(figsize=(12, 4));\n",
        "\n",
        "plt.subplot(1, 3, 1);\n",
        "sns.scatterplot(data=train, x=\"newspaper\", y=\"sales\");\n",
        "sns.lineplot(data=train, x=\"newspaper\", y=reg_news.predict(train[['newspaper']]), color='red');\n",
        "plt.ylim(0, 30);\n",
        "plt.xlim(-20, 120);\n",
        "plt.title(\"Simple Regression on Newspaper\");\n",
        "\n",
        "plt.subplot(1, 3, 2);\n",
        "sns.scatterplot(data=train, x=\"newspaper\", y=\"sales\");\n",
        "sns.lineplot(data=train, x=\"newspaper\", y=train['sales'].mean() - (reg_multi.coef_[2] * train['newspaper'].mean()) + reg_multi.coef_[2] * train['newspaper'], color='red');\n",
        "plt.ylim(0, 30);\n",
        "plt.xlim(-20, 120);\n",
        "plt.title(\"Multiple Regression\");\n",
        "\n",
        "plt.subplot(1, 3, 3);\n",
        "sns.scatterplot(x=residual_news_x, y=residual_news_y);\n",
        "sns.lineplot(x=residual_news_x, y=reg_news_fwl.predict(pd.DataFrame(residual_news_x)), color='red');\n",
        "plt.title(\"FWL Regression on Residuals\");\n",
        "plt.ylim(-10, 10);\n",
        "plt.xlim(-50, 90);\n",
        "\n",
        "plt.tight_layout();\n",
        "plt.show();"
      ],
      "id": "3f1a3afd-cd2f-4ebb-9e4b-0ee5dd0b60b4"
    },
    {
      "cell_type": "markdown",
      "metadata": {
        "id": "d9b8a802-35dd-4285-b4dd-e09dba5a0580"
      },
      "source": [
        "**Comment on the results**. Compare `residual_news_fwl` (the residual of the “residualized” model) to the residual of the multiple regression model trained in the earlier section - what do you notice, and how do you explain this?"
      ],
      "id": "d9b8a802-35dd-4285-b4dd-e09dba5a0580"
    },
    {
      "cell_type": "markdown",
      "metadata": {
        "id": "79ff9756-8f6f-43e4-9233-52e065244934"
      },
      "source": [
        "### 5. Linear regression with interaction terms\n",
        "\n",
        "Finally, we will try to improve our regression by addressing patterns noted in the residuals of the multiple regression model.\n",
        "\n",
        "Our multiple linear regression includes additive effects of all three types of advertising media. However, it does not include *interaction* effects, in which combining different types of advertising media together results in a bigger boost in sales than just the additive effect of the individual media."
      ],
      "id": "79ff9756-8f6f-43e4-9233-52e065244934"
    },
    {
      "cell_type": "markdown",
      "metadata": {
        "id": "2974a28c-e208-46f9-9ce7-e5ab2c609a72"
      },
      "source": [
        "#### Add interaction terms to the data\n",
        "\n",
        "The pattern in the residuals plots from parts (1) through (3) suggest that a model including an interaction effect may explain sales data better than a model including additive effects. Add four columns to each data frame (`train` and `test`):\n",
        "\n",
        "-   `newspaper` $\\times$ `radio` (name this column `newspaper_radio`)\n",
        "-   `TV` $\\times$ `radio` (name this column `TV_radio`)\n",
        "-   `newspaper` $\\times$ `TV` (name this column `newspaper_TV`)\n",
        "-   `newspaper` $\\times$ `radio` $\\times$ `TV` (name this column `newspaper_radio_TV`)\n",
        "\n",
        "Note: you can use the `assign` function in `pandas` ([documentation here](https://pandas.pydata.org/docs/reference/api/pandas.DataFrame.assign.html)) to create a new column and assign a value to it using operations on other columns."
      ],
      "id": "2974a28c-e208-46f9-9ce7-e5ab2c609a72"
    },
    {
      "cell_type": "code",
      "execution_count": null,
      "metadata": {
        "id": "8904b04f-a83c-4288-8b08-6fae40d06ce7"
      },
      "outputs": [],
      "source": [
        "#grade (write your code in this cell and DO NOT DELETE THIS LINE)\n"
      ],
      "id": "8904b04f-a83c-4288-8b08-6fae40d06ce7"
    },
    {
      "cell_type": "code",
      "execution_count": null,
      "metadata": {
        "id": "d65de5e3-34ce-4956-a07e-3592e54539e0"
      },
      "outputs": [],
      "source": [
        "train.info()"
      ],
      "id": "d65de5e3-34ce-4956-a07e-3592e54539e0"
    },
    {
      "cell_type": "code",
      "execution_count": null,
      "metadata": {
        "id": "17cc49e0-c78f-49e2-ba54-19a332883f0d"
      },
      "outputs": [],
      "source": [
        "#grade (write your code in this cell and DO NOT DELETE THIS LINE)\n"
      ],
      "id": "17cc49e0-c78f-49e2-ba54-19a332883f0d"
    },
    {
      "cell_type": "code",
      "execution_count": null,
      "metadata": {
        "id": "3427409b-d1b1-47e8-9746-3945eaccd16e"
      },
      "outputs": [],
      "source": [
        "test.info()"
      ],
      "id": "3427409b-d1b1-47e8-9746-3945eaccd16e"
    },
    {
      "cell_type": "markdown",
      "metadata": {
        "id": "0a07527c-78ad-40b2-ac40-19157d0e53c8"
      },
      "source": [
        "#### Fit a multiple linear regression with interaction terms\n",
        "\n",
        "Then, train a linear regression model on all seven features: the three types of ad budgets, and the four interaction effects."
      ],
      "id": "0a07527c-78ad-40b2-ac40-19157d0e53c8"
    },
    {
      "cell_type": "code",
      "execution_count": null,
      "metadata": {
        "id": "3d3ff146-7bb9-4977-ab5a-6f2041d2adc6"
      },
      "outputs": [],
      "source": [
        "#grade (write your code in this cell and DO NOT DELETE THIS LINE)\n",
        "\n",
        "# reg_inter = ...."
      ],
      "id": "3d3ff146-7bb9-4977-ab5a-6f2041d2adc6"
    },
    {
      "cell_type": "markdown",
      "metadata": {
        "id": "8fe53047-5fcb-49f4-82fa-3180758ff3bb"
      },
      "source": [
        "#### Compute R2, MSE for multiple regression with interaction terms\n",
        "\n",
        "Then, let’s get:\n",
        "\n",
        "-   the predictions on the training set: `y_pred_tr_inter`\n",
        "-   the R2 score on the training set: `r2_tr_inter`\n",
        "-   the MSE on the training set: `mse_tr_inter`"
      ],
      "id": "8fe53047-5fcb-49f4-82fa-3180758ff3bb"
    },
    {
      "cell_type": "code",
      "execution_count": null,
      "metadata": {
        "id": "86a97390-8c4e-46d5-acf5-06e02b39b66d"
      },
      "outputs": [],
      "source": [
        "#grade (write your code in this cell and DO NOT DELETE THIS LINE)\n",
        "\n",
        "# y_pred_tr_inter = ...\n",
        "# r2_tr_inter  = ...\n",
        "# mse_tr_inter = ..."
      ],
      "id": "86a97390-8c4e-46d5-acf5-06e02b39b66d"
    },
    {
      "cell_type": "code",
      "execution_count": null,
      "metadata": {
        "id": "e8d31c7f-1e3f-4490-9b94-4a93aedb0c1a"
      },
      "outputs": [],
      "source": [
        "# print(\"Multiple regression with interaction R2:  \", r2_tr_inter)\n",
        "# print(\"Multiple regression with interaction MSE: \", mse_tr_inter)\n"
      ],
      "id": "e8d31c7f-1e3f-4490-9b94-4a93aedb0c1a"
    },
    {
      "cell_type": "markdown",
      "metadata": {
        "id": "bc23a81a-1e99-4324-9bad-2c2b83d03e3d"
      },
      "source": [
        "#### Compute residuals\n",
        "\n",
        "Compute the residuals ($y - \\hat{y}$)."
      ],
      "id": "bc23a81a-1e99-4324-9bad-2c2b83d03e3d"
    },
    {
      "cell_type": "code",
      "execution_count": null,
      "metadata": {
        "id": "fb84065e-751d-4b8b-b0f3-543cadf7110f"
      },
      "outputs": [],
      "source": [
        "#grade (write your code in this cell and DO NOT DELETE THIS LINE)\n",
        "\n",
        "# residual_inter_tr = ..."
      ],
      "id": "fb84065e-751d-4b8b-b0f3-543cadf7110f"
    },
    {
      "cell_type": "markdown",
      "metadata": {
        "id": "9b98abb1-abaf-4c1e-a7a8-dbb274e60b68"
      },
      "source": [
        "#### Plot predicted vs. actual sales\n",
        "\n",
        "Next, plot predicted sales vs. actual sales for the multiple regression model with interaction terms.\n",
        "\n",
        "-   Create a scatter plot of predicted sales ($\\hat{y}$) on the vertical axis, and actual sales ($y$) on the horizontal axis.\n",
        "-   Make sure both axes use the same scale (the range of the vertical axis should be the same as the range of the horizontal axis).\n",
        "-   Label each axes."
      ],
      "id": "9b98abb1-abaf-4c1e-a7a8-dbb274e60b68"
    },
    {
      "cell_type": "code",
      "execution_count": null,
      "metadata": {
        "id": "3e6fda48-2185-466c-ba1d-0071afc124f5"
      },
      "outputs": [],
      "source": [
        "# plot\n"
      ],
      "id": "3e6fda48-2185-466c-ba1d-0071afc124f5"
    },
    {
      "cell_type": "markdown",
      "metadata": {
        "id": "dc32a666-5b42-407e-9825-53ef2140fcc1"
      },
      "source": [
        "**Comment on this plot**. What would you expect this plot to look like for a model that explains the data well? What does the plot tell you about your model in this specific case? In particular, compare what you observe here to your observations from the similar plot on the multiple regression model without interaction terms."
      ],
      "id": "dc32a666-5b42-407e-9825-53ef2140fcc1"
    },
    {
      "cell_type": "markdown",
      "metadata": {
        "id": "02174e06-8740-4c55-86de-9b2ff027a7f3"
      },
      "source": [
        "#### Plot residuals vs. actual sales\n",
        "\n",
        "Next, create a plot of residuals vs. actual sales for the multiple regression model with interaction terms.\n",
        "\n",
        "-   Create a scatter plot with the residuals ($y - \\hat{y}$) on the vertical axis, and actual sales ($y$) on the horizontal axis.\n",
        "-   Label each axes, and each plot."
      ],
      "id": "02174e06-8740-4c55-86de-9b2ff027a7f3"
    },
    {
      "cell_type": "code",
      "execution_count": null,
      "metadata": {
        "id": "c235de07-ef5b-43e2-95dd-82f2f3c0eef1"
      },
      "outputs": [],
      "source": [
        "# plot\n"
      ],
      "id": "c235de07-ef5b-43e2-95dd-82f2f3c0eef1"
    },
    {
      "cell_type": "markdown",
      "metadata": {
        "id": "a571180f-80ea-4487-b210-c3de712a8e6b"
      },
      "source": [
        "**Comment on this plot**. Is there a pattern in the residuals (and if so, what might it indicate), or do they appear to have no pattern with respect to actual sales? In particular, compare what you observe here to your observations from the similar plot on the multiple regression model without interaction terms."
      ],
      "id": "a571180f-80ea-4487-b210-c3de712a8e6b"
    },
    {
      "cell_type": "markdown",
      "metadata": {
        "id": "37e59d4f-8514-4eb6-ba18-f02b3f074ad2"
      },
      "source": [
        "#### Plot residuals vs. features\n",
        "\n",
        "Finally, you’ll create a plot of residuals vs. features, for each of the three **original** features (not the interaction terms), for your multiple regression model with interaction terms. Put your three subplots in one row.\n",
        "\n",
        "In each subplot,\n",
        "\n",
        "-   create a scatter plot with the residuals ($y - \\hat{y}$) on the vertical axis, and the feature ($x$) on the horizontal axis.\n",
        "-   Use the same vertical scale for all subplots (but the horizontal scale will depend on the feature! The upper end of the TV ad spending range is different from the radio ad spending range.)\n",
        "-   Make sure to clearly label each axis, and also label each subplot with a title that indicates which regression model it uses."
      ],
      "id": "37e59d4f-8514-4eb6-ba18-f02b3f074ad2"
    },
    {
      "cell_type": "code",
      "execution_count": null,
      "metadata": {
        "id": "05220328-ce9f-4fa0-8436-0316da25d5e5"
      },
      "outputs": [],
      "source": [
        "# plot\n"
      ],
      "id": "05220328-ce9f-4fa0-8436-0316da25d5e5"
    },
    {
      "cell_type": "markdown",
      "metadata": {
        "id": "6b2551a3-9df1-4850-a78c-ef7fb393f932"
      },
      "source": [
        "**Comment on this plot**. Is there a pattern in the residuals (and if so, what might it indicate), or do they appear to have no pattern with respect to each of the three features? In particular, compare what you observe here to your observations from the similar plot on the multiple regression model without interaction terms."
      ],
      "id": "6b2551a3-9df1-4850-a78c-ef7fb393f932"
    },
    {
      "cell_type": "markdown",
      "metadata": {
        "id": "f137208e-f6a8-484b-8177-29c1e77f8173"
      },
      "source": [
        "#### Compute test R2, MSE for multiple regression with interaction terms\n",
        "\n",
        "Finally, use this fitted model to get:\n",
        "\n",
        "-   the predictions on the **test** set: `y_pred_ts_inter`\n",
        "-   the R2 score on the **test** set: `r2_ts_inter`\n",
        "-   the MSE on the \\*\\*test\\* set: `mse_ts_inter`"
      ],
      "id": "f137208e-f6a8-484b-8177-29c1e77f8173"
    },
    {
      "cell_type": "code",
      "execution_count": null,
      "metadata": {
        "id": "f9a510bb-4674-4bc4-b28c-46b40ff2f9ef"
      },
      "outputs": [],
      "source": [
        "#grade (write your code in this cell and DO NOT DELETE THIS LINE)\n",
        "\n",
        "# y_pred_ts_inter = ...\n",
        "# r2_ts_inter  = ...\n",
        "# mse_ts_inter = ..."
      ],
      "id": "f9a510bb-4674-4bc4-b28c-46b40ff2f9ef"
    },
    {
      "cell_type": "code",
      "execution_count": null,
      "metadata": {
        "id": "98fe797e-0e8c-40c7-a08c-effeb0042c9b"
      },
      "outputs": [],
      "source": [
        "# print(\"Multiple regression with interaction R2 - test set:  \", r2_ts_inter)\n",
        "# print(\"Multiple regression with interaction MSE- test set: \", mse_ts_inter)\n"
      ],
      "id": "98fe797e-0e8c-40c7-a08c-effeb0042c9b"
    }
  ],
  "nbformat": 4,
  "nbformat_minor": 5,
  "metadata": {
    "colab": {
      "provenance": [],
      "include_colab_link": true
    },
    "language_info": {
      "name": "python"
    },
    "kernelspec": {
      "name": "python3",
      "display_name": "Python 3"
    }
  }
}